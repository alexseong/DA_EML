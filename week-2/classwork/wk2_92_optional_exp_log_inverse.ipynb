{
 "cells": [
  {
   "cell_type": "code",
   "execution_count": null,
   "metadata": {
    "collapsed": true
   },
   "outputs": [],
   "source": [
    "import numpy as np"
   ]
  },
  {
   "cell_type": "markdown",
   "metadata": {},
   "source": [
    "### What is the Exponent function all about? When is it needed? Also, how do I calculate Log and Ln with basic arithmetic and logic?\n",
    "\n",
    "\n",
    "So...you want to know about e^x, log x, and ln x.  It's actually a very good question!  These are three of the most important functions in math.  I think one of the reasons they are so important is because we can use them to model real life events.  More on that later.  Let's talk about what these functions are.\n",
    "\n",
    "First, exp(x) and e^x are the same function.\n",
    "\n",
    "If you calculate exp(1) or e^1 then you probably know that the number 'e' is about 2.718.  How do we get this number?  That is, how is e defined?  Well, it turns out that e is a limit:\n",
    "\n",
    "~~~\n",
    "  e = lim      [ 1 + (1/x) ]^x\n",
    "      x-> oo   \n",
    "~~~   "
   ]
  },
  {
   "cell_type": "code",
   "execution_count": null,
   "metadata": {
    "collapsed": false
   },
   "outputs": [],
   "source": [
    "np.exp(1)"
   ]
  },
  {
   "cell_type": "code",
   "execution_count": null,
   "metadata": {
    "collapsed": false
   },
   "outputs": [],
   "source": [
    "np.log(np.exp(1))"
   ]
  },
  {
   "cell_type": "markdown",
   "metadata": {},
   "source": [
    "So if you plug in numbers for x that get larger and larger you will get closer and closer to the number e.  Okay... so we know what e is.\n",
    "\n",
    "### Why is it so important?  \n",
    "\n",
    "There are several reasons.  \n",
    "\n",
    "In Calculus, it is possible to determine a formula for the slope of a tangent line to a function at every point.\n",
    "\n",
    "Let me explain that concept a bit better.  Take a curve and pick a point on the curve.  Now draw a line that goes through that point _and_ is tangent to the curve.  It is possible to determine a formula for the slope of the tangent line at any point!  This can be very useful.\n",
    "\n",
    "An example:  The graph of the function y=x^2 is a parabola, right?  \n",
    "\n",
    "Well the slope at _every_ point on that line is 2x.  Now what does this have to do with e^x?  Well e^x is a very special function in that the slope of the tangent line at some point x is in fact e^x!  \n",
    "\n",
    "In other words: Pick a point on the curve... say x=3.  At this point, you draw a line that is tangent to the curve and you want to know its slope.  Well, the slope of that line is e^3!  It's that simple.  The function e^x is the only function in math that acts like that and its usefulness can not even begin to be described.\n",
    "\n",
    "Remember when I was saying that these functions can be used for  modeling? Well, e^x can model such things as population growth, \n",
    "population decay, and the growth of money in an interest bearing account!  It is so useful.  \n",
    "\n",
    "Let's move on to the log (x).\n",
    "\n",
    "Let's define what we mean by log (x).  There are a number of different types of logs.  They are defined in terms of a 'base'  For example:\n",
    "\n",
    "The log base 4 of 5 is written as:\n",
    "\n",
    "~~~\n",
    "  log  5\n",
    "     4\n",
    "~~~\n",
    "\n",
    "with the base written in subscript (below).  It's hard to illustrate on the computer, but I think it's pretty clear.  You can have any base!  Here's how we define the log:\n",
    "\n",
    "~~~\n",
    "  log  B = y\n",
    "     x\n",
    "~~~\n",
    "\n",
    "where x, y, and B are all just numbers.  You will be given two of them and asked to find the third.  The formula?  \n",
    "\n",
    "~~~\n",
    "  x^y = B \n",
    "~~~\n",
    "\n",
    "That's what it means to be a log: the base raised to the right hand side equals the number in the log.  So you must be wondering why log (x) doesn't have a base, right?  It does.  We just don't write it. \n",
    "\n",
    "If no other base is specified, log (x) is assumed to have base 10.\n",
    "\n",
    "So if log (x) = 3, then to solve for x we say:\n",
    "\n",
    "~~~\n",
    "    10^3 = x\n",
    "~~~\n",
    "\n",
    "  so   x = 1000\n",
    "\n",
    "so we can say that log (1000) = 3 \n",
    "\n",
    "#### How do we graph it?\n",
    "\n",
    "Well, obviously the log base 3 of x and log base 4 of x will have different graphs, but they will be similar.  All graphs of y = log x (where b is any number) have these properties:\n",
    "\n",
    "1) It doesn't exist for negative x\n",
    "\n",
    "2) As x approaches 0 from the right side the function heads toward -oo\n",
    "\n",
    "3) At x = 1 the log is 0\n",
    "\n",
    "4) As x goes to infinity the log function grows without bound (that is, it also goes to infinity).  It just takes a really long time for it to get there!\n",
    "\n",
    "Here's a graph of y = log (x)   Rememeber that's base 10, right?\n",
    "\n",
    "~~~\n",
    "       1 +                                   AAAAAAAAAAAAAAAAAAA              \n",
    "         +                       AAAAAAAAAAAA                                 \n",
    "         +               AAAAAAAA                                             \n",
    "         +          AAAAA                                                     \n",
    "         0      AAAA  2             4            6             8          \n",
    " -+--+--+-+--**-+-+--+--+--+-+--+--+-+--+--+-+--+--+-+--+--+--+-+ \n",
    "       0 +  AA                                                                \n",
    "         + AA                                                                 \n",
    "         +AA                                                                  \n",
    "         +A                                                                   \n",
    "      -1 *                                                                    \n",
    "         *                                                                    \n",
    "         *                                                                                                                       ~~~            \n",
    "                                                                              \n",
    "Finally:  ln (x)  \n",
    "\n",
    "The function ln(x) is the inverse of e^x.  That is, if you flip thegraph of y = e^x over the line y = x then you would get y = ln(x).\n",
    "\n",
    "It is not pronounced 'line of x'  or 'lin or x' or anything like that.  It is pronounced 'the natural log of x'.\n",
    "\n",
    "Now you may be wondering what's so natural about it?  Well, it's a pecial case of log (x).  Remember when we talked about bases with log x) ??  Well the reason ln(x) is so cool is because its base is e! here's that number e again!  Get used to it... It's everywhere!\n",
    "\n",
    "So \n",
    "\n",
    "~~~\n",
    "  log  x = ln x\n",
    "     e\n",
    "~~~\n",
    "\n",
    "Remember the property of logs?  It applies here too!  That is, \n",
    "\n",
    "~~~\n",
    "  e^(ln x) = x\n",
    "~~~\n",
    "\n",
    "because e^x and ln(x) are inverses of each other:  e^ln x = x.\n",
    "\n",
    "Now let's say you want to solve ln x = 5:\n",
    "\n",
    "~~~\n",
    "  you say     e^5 = x\n",
    "\n",
    "  so            x = 148.413\n",
    "\n",
    "  so   ln 148.413 =np.log\n",
    "~~~\n",
    "\n"
   ]
  },
  {
   "cell_type": "code",
   "execution_count": null,
   "metadata": {
    "collapsed": false
   },
   "outputs": [],
   "source": [
    "np.exp(5)"
   ]
  },
  {
   "cell_type": "code",
   "execution_count": null,
   "metadata": {
    "collapsed": false
   },
   "outputs": [],
   "source": [
    "np.log(np.exp(5))"
   ]
  },
  {
   "cell_type": "markdown",
   "metadata": {},
   "source": [
    "### REFERENCES\n",
    "\n",
    "http://mathforum.org/library/drmath/view/51443.html"
   ]
  }
 ],
 "metadata": {
  "kernelspec": {
   "display_name": "Python 3",
   "language": "python",
   "name": "python3"
  },
  "language_info": {
   "codemirror_mode": {
    "name": "ipython",
    "version": 3
   },
   "file_extension": ".py",
   "mimetype": "text/x-python",
   "name": "python",
   "nbconvert_exporter": "python",
   "pygments_lexer": "ipython3",
   "version": "3.6.0"
  }
 },
 "nbformat": 4,
 "nbformat_minor": 1
}
