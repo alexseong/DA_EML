{
 "cells": [
  {
   "cell_type": "markdown",
   "metadata": {},
   "source": [
    "## Chapter 1: Introduction ([slides](https://class.stanford.edu/c4x/HumanitiesScience/StatLearning/asset/introduction.pdf), [playlist](https://www.youtube.com/playlist?list=PLAz_6UO1Yh--Ti2zrc_Y0vb2nMF3_Y_KP))\n",
    "- [Opening Remarks and Examples](https://www.youtube.com/watch?v=2wLfFB_6SKI&list=PLAz_6UO1Yh--Ti2zrc_Y0vb2nMF3_Y_KP) (18:18)\n",
    "- [Supervised and Unsupervised Learning](https://www.youtube.com/watch?v=LvaTokhYnDw&list=PLAz_6UO1Yh--Ti2zrc_Y0vb2nMF3_Y_KP&index=2) (12:12)"
   ]
  },
  {
   "cell_type": "markdown",
   "metadata": {},
   "source": [
    "## Chapter 2: Statistical Learning ([slides](https://class.stanford.edu/c4x/HumanitiesScience/StatLearning/asset/statistical_learning.pdf), [playlist](https://www.youtube.com/playlist?list=PLAz_6UO1Yh-8S8SKE1T_ZQixpO6Yt0PhD))\n",
    "- [Statistical Learning and Regression](https://www.youtube.com/watch?v=WjyuiK5taS8&list=PLAz_6UO1Yh-8S8SKE1T_ZQixpO6Yt0PhD&index=1) (11:41)\n",
    "- [Curse of Dimensionality and Parametric Models](https://www.youtube.com/watch?v=UvxHOkYQl8g&list=PLAz_6UO1Yh-8S8SKE1T_ZQixpO6Yt0PhD&index=2) (11:40)\n",
    "- [Assessing Model Accuracy and Bias-Variance Trade-off](https://www.youtube.com/watch?v=VusKAosxxyk&list=PLAz_6UO1Yh-8S8SKE1T_ZQixpO6Yt0PhD&index=3) (10:04)\n",
    "- [Classification Problems and K-Nearest Neighbors](https://www.youtube.com/watch?v=vVj2itVNku4&list=PLAz_6UO1Yh-8S8SKE1T_ZQixpO6Yt0PhD&index=4) (15:37)\n",
    "- [Lab: Introduction to R](https://www.youtube.com/watch?v=jwBgGS_4RQA&list=PLAz_6UO1Yh-8S8SKE1T_ZQixpO6Yt0PhD&index=5) (14:12)"
   ]
  },
  {
   "cell_type": "markdown",
   "metadata": {},
   "source": [
    "## Chapter 3: Linear Regression ([slides](https://class.stanford.edu/c4x/HumanitiesScience/StatLearning/asset/linear_regression.pdf), [playlist](https://www.youtube.com/playlist?list=PLAz_6UO1Yh-9A-s9VHmdiyPph5W-YAr26))\n",
    "- [Simple Linear Regression and Confidence Intervals](https://www.youtube.com/watch?v=PsE9UqoWtS4&list=PLAz_6UO1Yh-9A-s9VHmdiyPph5W-YAr26&index=1) (13:01)\n",
    "- [Hypothesis Testing](https://www.youtube.com/watch?v=J6AdoiNUyWI&list=PLAz_6UO1Yh-9A-s9VHmdiyPph5W-YAr26&index=2) (8:24)\n",
    "- [Multiple Linear Regression and Interpreting Regression Coefficients](https://www.youtube.com/watch?v=1hbCJyM9ccs&list=PLAz_6UO1Yh-9A-s9VHmdiyPph5W-YAr26&index=3) (15:38)\n",
    "- [Model Selection and Qualitative Predictors](https://www.youtube.com/watch?v=3T6RXmIHbJ4&list=PLAz_6UO1Yh-9A-s9VHmdiyPph5W-YAr26&index=4) (14:51)\n",
    "- [Interactions and Non-linearity](https://www.youtube.com/watch?v=IFzVxLv0TKQ&list=PLAz_6UO1Yh-9A-s9VHmdiyPph5W-YAr26&index=5) (14:16)\n",
    "- [Lab: Linear Regression](https://www.youtube.com/watch?v=5ONFqIk3RFg&list=PLAz_6UO1Yh-9A-s9VHmdiyPph5W-YAr26&index=6) (22:10)"
   ]
  },
  {
   "cell_type": "markdown",
   "metadata": {},
   "source": [
    "## Chapter 4: Classification ([slides](https://class.stanford.edu/c4x/HumanitiesScience/StatLearning/asset/classification.pdf), [playlist](https://www.youtube.com/playlist?list=PLAz_6UO1Yh-8UXDAP4qDpss-Iidl7H4Z0))\n",
    "- [Introduction to Classification](https://www.youtube.com/watch?v=sqq21-VIa1c&index=1&list=PLAz_6UO1Yh-8UXDAP4qDpss-Iidl7H4Z0) (10:25)\n",
    "- [Logistic Regression and Maximum Likelihood](https://www.youtube.com/watch?v=31Q5FGRnxt4&index=2&list=PLAz_6UO1Yh-8UXDAP4qDpss-Iidl7H4Z0) (9:07)\n",
    "- [Multivariate Logistic Regression and Confounding](https://www.youtube.com/watch?v=MpX8rVv_u4E&index=3&list=PLAz_6UO1Yh-8UXDAP4qDpss-Iidl7H4Z0) (9:53)\n",
    "- [Case-Control Sampling and Multi-class Logistic Regression](https://www.youtube.com/watch?v=GavRXXEHGqU&index=4&list=PLAz_6UO1Yh-8UXDAP4qDpss-Iidl7H4Z0) (7:28)\n",
    "- [Linear Discriminant Analysis and Bayes Theorem](https://www.youtube.com/watch?v=RfrGiG1Hm3M&index=5&list=PLAz_6UO1Yh-8UXDAP4qDpss-Iidl7H4Z0) (7:12)\n",
    "- [Univariate Linear Discriminant Analysis](https://www.youtube.com/watch?v=QG0pVJXT6EU&index=6&list=PLAz_6UO1Yh-8UXDAP4qDpss-Iidl7H4Z0) (7:37)\n",
    "- [Multivariate Linear Discriminant Analysis and ROC Curves](https://www.youtube.com/watch?v=X4VDZDp2vqw&index=7&list=PLAz_6UO1Yh-8UXDAP4qDpss-Iidl7H4Z0) (17:42)\n",
    "- [Quadratic Discriminant Analysis and Naive Bayes](https://www.youtube.com/watch?v=6FiNGTYAOAA&index=8&list=PLAz_6UO1Yh-8UXDAP4qDpss-Iidl7H4Z0) (10:07)\n",
    "- [Lab: Logistic Regression](https://www.youtube.com/watch?v=TxvEVc8YNlU&index=9&list=PLAz_6UO1Yh-8UXDAP4qDpss-Iidl7H4Z0) (10:14)\n",
    "- [Lab: Linear Discriminant Analysis](https://www.youtube.com/watch?v=2cl7JiPzkBY&index=10&list=PLAz_6UO1Yh-8UXDAP4qDpss-Iidl7H4Z0) (8:22)\n",
    "- [Lab: K-Nearest Neighbors](https://www.youtube.com/watch?v=9TVVF7CS3F4&index=11&list=PLAz_6UO1Yh-8UXDAP4qDpss-Iidl7H4Z0) (5:01)"
   ]
  },
  {
   "cell_type": "markdown",
   "metadata": {},
   "source": [
    "## Chapter 5: Resampling Methods ([slides](https://class.stanford.edu/c4x/HumanitiesScience/StatLearning/asset/cv_boot.pdf), [playlist](https://www.youtube.com/playlist?list=PLAz_6UO1Yh-8Uk5hY-HpCf1MQjyv5Aes6))\n",
    "- [Estimating Prediction Error and Validation Set Approach](https://www.youtube.com/watch?v=_2ij6eaaSl0&index=1&list=PLAz_6UO1Yh-8Uk5hY-HpCf1MQjyv5Aes6) (14:01)\n",
    "- [K-fold Cross-Validation](https://www.youtube.com/watch?v=nZAM5OXrktY&index=2&list=PLAz_6UO1Yh-8Uk5hY-HpCf1MQjyv5Aes6) (13:33)\n",
    "- [Cross-Validation: The Right and Wrong Ways](https://www.youtube.com/watch?v=S06JpVoNaA0&list=PLAz_6UO1Yh-8Uk5hY-HpCf1MQjyv5Aes6&index=3) (10:07)\n",
    "- [The Bootstrap](https://www.youtube.com/watch?v=p4BYWX7PTBM&list=PLAz_6UO1Yh-8Uk5hY-HpCf1MQjyv5Aes6&index=4) (11:29)\n",
    "- [More on the Bootstrap](https://www.youtube.com/watch?v=BzHz0J9a6k0&list=PLAz_6UO1Yh-8Uk5hY-HpCf1MQjyv5Aes6&index=5) (14:35)\n",
    "- [Lab: Cross-Validation](https://www.youtube.com/watch?v=6dSXlqHAoMk&list=PLAz_6UO1Yh-8Uk5hY-HpCf1MQjyv5Aes6&index=6) (11:21)\n",
    "- [Lab: The Bootstrap](https://www.youtube.com/watch?v=YVSmsWoBKnA&list=PLAz_6UO1Yh-8Uk5hY-HpCf1MQjyv5Aes6&index=7) (7:40)"
   ]
  },
  {
   "cell_type": "markdown",
   "metadata": {},
   "source": [
    "## Chapter 6: Linear Model Selection and Regularization ([slides](https://class.stanford.edu/c4x/HumanitiesScience/StatLearning/asset/model_selection.pdf), [playlist](https://www.youtube.com/playlist?list=PLAz_6UO1Yh-9SXYBF2FTm_4Lf6PquvYPS))\n",
    "- [Linear Model Selection and Best Subset Selection](https://www.youtube.com/watch?v=91si52nk3LA&list=PLAz_6UO1Yh-9SXYBF2FTm_4Lf6PquvYPS&index=1) (13:44)\n",
    "- [Forward Stepwise Selection](https://www.youtube.com/watch?v=nLpJd_iKmrE&index=2&list=PLAz_6UO1Yh-9SXYBF2FTm_4Lf6PquvYPS) (12:26)\n",
    "- [Backward Stepwise Selection](https://www.youtube.com/watch?v=NJhMSpI2Uj8&list=PLAz_6UO1Yh-9SXYBF2FTm_4Lf6PquvYPS&index=3) (5:26)\n",
    "- [Estimating Test Error Using Mallow's Cp, AIC, BIC, Adjusted R-squared](https://www.youtube.com/watch?v=LkifE44myLc&list=PLAz_6UO1Yh-9SXYBF2FTm_4Lf6PquvYPS&index=4) (14:06)\n",
    "- [Estimating Test Error Using Cross-Validation](https://www.youtube.com/watch?v=3p9JNaJCOb4&list=PLAz_6UO1Yh-9SXYBF2FTm_4Lf6PquvYPS&index=5) (8:43)\n",
    "- [Shrinkage Methods and Ridge Regression](https://www.youtube.com/watch?v=cSKzqb0EKS0&list=PLAz_6UO1Yh-9SXYBF2FTm_4Lf6PquvYPS&index=6) (12:37)\n",
    "- [The Lasso](https://www.youtube.com/watch?v=A5I1G1MfUmA&list=PLAz_6UO1Yh-9SXYBF2FTm_4Lf6PquvYPS&index=7) (15:21)\n",
    "- [Tuning Parameter Selection for Ridge Regression and Lasso](https://www.youtube.com/watch?v=xMKVUstjXBE&index=8&list=PLAz_6UO1Yh-9SXYBF2FTm_4Lf6PquvYPS) (5:27)\n",
    "- [Dimension Reduction](https://www.youtube.com/watch?v=QlyROnAjnEk&index=9&list=PLAz_6UO1Yh-9SXYBF2FTm_4Lf6PquvYPS) (4:45)\n",
    "- [Principal Components Regression and Partial Least Squares](https://www.youtube.com/watch?v=eYxwWGJcOfw&index=10&list=PLAz_6UO1Yh-9SXYBF2FTm_4Lf6PquvYPS) (15:48)\n",
    "- [Lab: Best Subset Selection](https://www.youtube.com/watch?v=3kwdDGnV8MM&list=PLAz_6UO1Yh-9SXYBF2FTm_4Lf6PquvYPS&index=11) (10:36)\n",
    "- [Lab: Forward Stepwise Selection and Model Selection Using Validation Set](https://www.youtube.com/watch?v=mv-vdysZIb4&index=12&list=PLAz_6UO1Yh-9SXYBF2FTm_4Lf6PquvYPS) (10:32)\n",
    "- [Lab: Model Selection Using Cross-Validation](https://www.youtube.com/watch?v=F8MMHCCoALU&index=13&list=PLAz_6UO1Yh-9SXYBF2FTm_4Lf6PquvYPS) (5:32)\n",
    "- [Lab: Ridge Regression and Lasso](https://www.youtube.com/watch?v=1REe3qSotx8&list=PLAz_6UO1Yh-9SXYBF2FTm_4Lf6PquvYPS&index=14) (16:34)\n",
    "\n",
    "\n",
    "\n",
    "\n",
    "\n"
   ]
  },
  {
   "cell_type": "markdown",
   "metadata": {},
   "source": [
    "## Chapter 7: Moving Beyond Linearity ([slides](https://class.stanford.edu/c4x/HumanitiesScience/StatLearning/asset/nonlinear.pdf), [playlist](https://www.youtube.com/playlist?list=PLAz_6UO1Yh--ewS4JGQLE6uqr8VVXvphm))\n",
    "- [Polynomial Regression and Step Functions](https://www.youtube.com/watch?v=gtXQXA7qF3c&index=1&list=PLAz_6UO1Yh--ewS4JGQLE6uqr8VVXvphm) (14:59)\n",
    "- [Piecewise Polynomials and Splines](https://www.youtube.com/watch?v=7ZIqzTNB8lk&index=2&list=PLAz_6UO1Yh--ewS4JGQLE6uqr8VVXvphm) (13:13)\n",
    "- [Smoothing Splines](https://www.youtube.com/watch?v=mxXHJa1DsWQ&list=PLAz_6UO1Yh--ewS4JGQLE6uqr8VVXvphm&index=3) (10:10)\n",
    "- [Local Regression and Generalized Additive Models](https://www.youtube.com/watch?v=N2hBXqPiegQ&index=4&list=PLAz_6UO1Yh--ewS4JGQLE6uqr8VVXvphm) (10:45)\n",
    "- [Lab: Polynomials](https://www.youtube.com/watch?v=uQBnDGu6TYU&index=5&list=PLAz_6UO1Yh--ewS4JGQLE6uqr8VVXvphm) (21:11)\n",
    "- [Lab: Splines and Generalized Additive Models](https://www.youtube.com/watch?v=DCn83aXXuHc&index=6&list=PLAz_6UO1Yh--ewS4JGQLE6uqr8VVXvphm) (12:15)"
   ]
  },
  {
   "cell_type": "markdown",
   "metadata": {},
   "source": [
    "## Chapter 8: Tree-Based Methods ([slides](https://class.stanford.edu/c4x/HumanitiesScience/StatLearning/asset/trees.pdf), [playlist](https://www.youtube.com/playlist?list=PLAz_6UO1Yh-99GQBbTW0PmDQ51g5P7iGN))\n",
    "- [Decision Trees](https://www.youtube.com/watch?v=6ENTbK3yQUQ&index=1&list=PLAz_6UO1Yh-99GQBbTW0PmDQ51g5P7iGN) (14:37)\n",
    "- [Pruning a Decision Tree](https://www.youtube.com/watch?v=GfPR7Xhdokc&list=PLAz_6UO1Yh-99GQBbTW0PmDQ51g5P7iGN&index=2) (11:45)\n",
    "- [Classification Trees and Comparison with Linear Models](https://www.youtube.com/watch?v=hPEJoITBbQ4&index=3&list=PLAz_6UO1Yh-99GQBbTW0PmDQ51g5P7iGN) (11:00)\n",
    "- [Bootstrap Aggregation (Bagging) and Random Forests](https://www.youtube.com/watch?v=lq_xzBRIWm4&list=PLAz_6UO1Yh-99GQBbTW0PmDQ51g5P7iGN&index=4) (13:45)\n",
    "- [Boosting and Variable Importance](https://www.youtube.com/watch?v=U3MdBNysk9w&index=5&list=PLAz_6UO1Yh-99GQBbTW0PmDQ51g5P7iGN) (12:03)\n",
    "- [Lab: Decision Trees](https://www.youtube.com/watch?v=0wZUXtvAtDc&index=6&list=PLAz_6UO1Yh-99GQBbTW0PmDQ51g5P7iGN) (10:13)\n",
    "- [Lab: Random Forests and Boosting](https://www.youtube.com/watch?v=IY7oWGXb77o&index=7&list=PLAz_6UO1Yh-99GQBbTW0PmDQ51g5P7iGN) (15:35)"
   ]
  },
  {
   "cell_type": "markdown",
   "metadata": {},
   "source": [
    "## Chapter 9: Support Vector Machines ([slides](https://class.stanford.edu/c4x/HumanitiesScience/StatLearning/asset/svm.pdf), [playlist](https://www.youtube.com/playlist?list=PLAz_6UO1Yh-8A4YjVfarI9FnVT6licij4))\n",
    "- [Maximal Margin Classifier](https://www.youtube.com/watch?v=QpbynqiTCsY&list=PLAz_6UO1Yh-8A4YjVfarI9FnVT6licij4&index=1) (11:35)\n",
    "- [Support Vector Classifier](https://www.youtube.com/watch?v=xKsTsGE7KpI&list=PLAz_6UO1Yh-8A4YjVfarI9FnVT6licij4&index=2) (8:04)\n",
    "- [Kernels and Support Vector Machines](https://www.youtube.com/watch?v=dm32QvCW7wE&list=PLAz_6UO1Yh-8A4YjVfarI9FnVT6licij4&index=3) (15:04)\n",
    "- [Example and Comparison with Logistic Regression](https://www.youtube.com/watch?v=mI18GD4_ysE&list=PLAz_6UO1Yh-8A4YjVfarI9FnVT6licij4&index=4) (14:47)\n",
    "- [Lab: Support Vector Machine for Classification](https://www.youtube.com/watch?v=qhyyufR0930&list=PLAz_6UO1Yh-8A4YjVfarI9FnVT6licij4&index=5) (10:13)\n",
    "- [Lab: Nonlinear Support Vector Machine](https://www.youtube.com/watch?v=L3n2VF7yKkk&list=PLAz_6UO1Yh-8A4YjVfarI9FnVT6licij4&index=6) (7:54)"
   ]
  },
  {
   "cell_type": "markdown",
   "metadata": {
    "collapsed": true
   },
   "source": [
    "## Chapter 10: Unsupervised Learning ([slides](https://class.stanford.edu/c4x/HumanitiesScience/StatLearning/asset/unsupervised.pdf), [playlist](https://www.youtube.com/playlist?list=PL5-da3qGB5IBC-MneTc9oBZz0C6kNJ-f2))\n",
    "- [Unsupervised Learning and Principal Components Analysis](https://www.youtube.com/watch?v=ipyxSYXgzjQ&list=PLAz_6UO1Yh-8PorKEwTpGpOo6T8PGjrca) (12:37)\n",
    "- [Exploring Principal Components Analysis and Proportion of Variance Explained](https://www.youtube.com/watch?v=dbuSGWCgdzw&list=PLAz_6UO1Yh-8PorKEwTpGpOo6T8PGjrca&index=2) (17:39)\n",
    "- [K-means Clustering](https://www.youtube.com/watch?v=aIybuNt9ps4&index=3&list=PLAz_6UO1Yh-8PorKEwTpGpOo6T8PGjrca) (17:17)\n",
    "- [Hierarchical Clustering](https://www.youtube.com/watch?v=Tuuc9Y06tAc&index=4&list=PLAz_6UO1Yh-8PorKEwTpGpOo6T8PGjrca) (14:45)\n",
    "- [Breast Cancer Example of Hierarchical Clustering](https://www.youtube.com/watch?v=yUJcTpWNY_o&list=PLAz_6UO1Yh-8PorKEwTpGpOo6T8PGjrca&index=5) (9:24)\n",
    "- [Lab: Principal Components Analysis](https://www.youtube.com/watch?v=lFHISDj_4EQ&index=6&list=PLAz_6UO1Yh-8PorKEwTpGpOo6T8PGjrca) (6:28)\n",
    "- [Lab: K-means Clustering](https://www.youtube.com/watch?v=YDubYJsZ9iM&index=7&list=PLAz_6UO1Yh-8PorKEwTpGpOo6T8PGjrca) (6:31)\n",
    "- [Lab: Hierarchical Clustering](https://www.youtube.com/watch?v=4u3zvtfqb7w&index=8&list=PLAz_6UO1Yh-8PorKEwTpGpOo6T8PGjrca) (6:33)"
   ]
  }
 ],
 "metadata": {
  "anaconda-cloud": {},
  "kernelspec": {
   "display_name": "Python 3",
   "language": "python",
   "name": "python3"
  },
  "language_info": {
   "codemirror_mode": {
    "name": "ipython",
    "version": 3
   },
   "file_extension": ".py",
   "mimetype": "text/x-python",
   "name": "python",
   "nbconvert_exporter": "python",
   "pygments_lexer": "ipython3",
   "version": "3.6.8"
  }
 },
 "nbformat": 4,
 "nbformat_minor": 1
}
